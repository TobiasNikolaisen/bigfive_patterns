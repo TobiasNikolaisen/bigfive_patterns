{
 "cells": [
  {
   "cell_type": "code",
   "execution_count": 1,
   "metadata": {},
   "outputs": [],
   "source": [
    "import pandas as pd\n",
    "from pathlib import Path"
   ]
  },
  {
   "cell_type": "code",
   "execution_count": 2,
   "metadata": {},
   "outputs": [
    {
     "name": "stdout",
     "output_type": "stream",
     "text": [
      "CSV file loaded successfully.\n",
      "JSON file loaded successfully.\n",
      "                 name  id                                               text  \\\n",
      "0     Albert Einstein   1  \"Imagination is more important than knowledge....   \n",
      "1           Aristotle   2  \"Knowing yourself is the beginning of all wisd...   \n",
      "2  Arthur Conan Doyle   3  \"When the spirits are low, when the day appear...   \n",
      "3           Carl Jung   4  \"Until you make the unconscious conscious, it ...   \n",
      "4    Charlotte Brontë   5  \"Imagination is a strong, restless faculty, wh...   \n",
      "\n",
      "  person_type  extraversion    active  assertive  cheerful  openness  \\\n",
      "0        real      0.664440  0.811619   1.000000  0.755594  0.789983   \n",
      "1        real      0.632171  0.283058   0.744700  0.718687  0.745332   \n",
      "2        real      0.279732  0.250092   0.185511  0.739763  0.369607   \n",
      "3        real      0.262781  0.082182   0.063229  0.698562  0.566168   \n",
      "4        real      0.659997  0.778186   0.843944  0.769033  0.756348   \n",
      "\n",
      "   adventurous  ...  excitement_seeking  outgoing  gregariousness  altruism  \\\n",
      "0     0.742802  ...            0.783521  0.842362        0.736121  0.289987   \n",
      "1     0.668422  ...            0.226026  0.740646        0.245458  0.678837   \n",
      "2     0.238911  ...            0.731161  0.263564        0.141408  0.240164   \n",
      "3     0.700187  ...            0.196172  0.253790        0.119715  0.137980   \n",
      "4     0.287056  ...            0.731608  0.160753        0.241077  0.066714   \n",
      "\n",
      "    modesty  uncompromising  sympathy     fiery  prone_to_worry  immoderation  \n",
      "0  0.312762        0.842105  0.765444  0.344325        0.000000      0.949361  \n",
      "1  0.747826        0.827963  0.779855  0.174835        0.085033      0.746865  \n",
      "2  0.280327        0.731386  0.746977  0.098558        0.259885      0.168469  \n",
      "3  0.112511        0.807110  0.705911  0.135886        0.000000      0.820112  \n",
      "4  0.197621        0.986937  0.175120  0.182497        0.000000      0.982607  \n",
      "\n",
      "[5 rows x 39 columns]\n",
      "Merged DataFrame shape: (25, 39)\n"
     ]
    }
   ],
   "source": [
    "import pandas as pd\n",
    "from pathlib import Path\n",
    "\n",
    "# Define file paths\n",
    "base_path = Path('/Users/tobiasnikolaisen/Documents/Github/HEL8048/bigfive_patterns/data')\n",
    "csv_file_path = base_path / 'raw_data.csv'\n",
    "json_file_path = base_path / 'corrected_output.json'\n",
    "\n",
    "# Load CSV\n",
    "try:\n",
    "    df_csv = pd.read_csv(csv_file_path)\n",
    "    print(\"CSV file loaded successfully.\")\n",
    "except FileNotFoundError:\n",
    "    print(f\"CSV file not found at {csv_file_path}\")\n",
    "    raise\n",
    "\n",
    "# Load JSON\n",
    "try:\n",
    "    df_json = pd.read_json(json_file_path)\n",
    "    print(\"JSON file loaded successfully.\")\n",
    "except ValueError as e:\n",
    "    print(f\"Error loading JSON file: {e}\")\n",
    "    raise\n",
    "\n",
    "# Merge on 'id'\n",
    "df_merged = df_csv.merge(df_json, on='id', how='left')\n",
    "\n",
    "# Show verification\n",
    "print(df_merged.head())\n",
    "print(f\"Merged DataFrame shape: {df_merged.shape}\")"
   ]
  }
 ],
 "metadata": {
  "kernelspec": {
   "display_name": "Python 3 (ipykernel)",
   "language": "python",
   "name": "python3"
  },
  "language_info": {
   "codemirror_mode": {
    "name": "ipython",
    "version": 3
   },
   "file_extension": ".py",
   "mimetype": "text/x-python",
   "name": "python",
   "nbconvert_exporter": "python",
   "pygments_lexer": "ipython3",
   "version": "3.11.7"
  }
 },
 "nbformat": 4,
 "nbformat_minor": 4
}
