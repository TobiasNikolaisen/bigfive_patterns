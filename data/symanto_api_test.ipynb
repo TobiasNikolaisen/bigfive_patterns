{
 "cells": [
  {
   "cell_type": "code",
   "execution_count": 1,
   "metadata": {},
   "outputs": [
    {
     "name": "stdout",
     "output_type": "stream",
     "text": [
      "[{'id': '1', 'extraversion': 0.6440814165650377, 'active': 0.9288503171767019, 'assertive': 0.9723569395993457, 'cheerful': 0.7800561558750957, 'openness': 0.6564375998563013, 'adventurous': 0.9207200052941565, 'artistic': 0.8082664473373228, 'emotionally_aware': 0.7866171284872893, 'imaginative': 0.8033504448036908, 'intellectual': 0.8293012658706523, 'conscientiousness': 0.7131512521625685, 'cautious': 0.2374240146723768, 'disciplined': 0.8995150174423551, 'dutiful': 0.9828034449833138, 'neuroticism': 0.6408103841099672, 'melancholy': 0.0025336320750257765, 'self_conscious': 0.023322650481673732, 'authority_challenging': 0.10920143320381556, 'achievement_striving': 0.22188188358527847, 'orderliness': 0.9996691152140824, 'self_efficacy': 0.8335649526834756, 'stress_prone': 0.19622413190012952, 'agreeableness': 0.6110969303345717, 'cooperative': 0.9136674324285997, 'trusting': 0.8911389054331281, 'excitement_seeking': 0.7749699840229917, 'outgoing': 0.9572213241063747, 'gregariousness': 0.8735641963753934, 'altruism': 1, 'modesty': 0.8966126851773069, 'uncompromising': 0.852661731756431, 'sympathy': 0.8794823071178044, 'fiery': 0.08011193359615036, 'prone_to_worry': 0, 'immoderation': 0.10026754398404188}]\n"
     ]
    }
   ],
   "source": [
    "import requests\n",
    "\n",
    "url = \"https://big-five-personality-insights.p.rapidapi.com/api/big5\"\n",
    "\n",
    "payload = [\n",
    "\t{\n",
    "\t\t\"id\": \"1\",\n",
    "\t\t\"language\": \"en\",\n",
    "\t\t\"text\": \"I love this service\"\n",
    "\t}\n",
    "]\n",
    "headers = {\n",
    "\t\"x-rapidapi-key\": \"28f49ce9d8msh544586063b68d83p1a4a57jsnd98eedb00de9\",\n",
    "\t\"x-rapidapi-host\": \"big-five-personality-insights.p.rapidapi.com\",\n",
    "\t\"Content-Type\": \"application/json\"\n",
    "}\n",
    "\n",
    "response = requests.post(url, json=payload, headers=headers)\n",
    "\n",
    "print(response.json())"
   ]
  },
  {
   "cell_type": "code",
   "execution_count": null,
   "metadata": {},
   "outputs": [],
   "source": []
  }
 ],
 "metadata": {
  "kernelspec": {
   "display_name": "base",
   "language": "python",
   "name": "python3"
  },
  "language_info": {
   "codemirror_mode": {
    "name": "ipython",
    "version": 3
   },
   "file_extension": ".py",
   "mimetype": "text/x-python",
   "name": "python",
   "nbconvert_exporter": "python",
   "pygments_lexer": "ipython3",
   "version": "3.11.7"
  }
 },
 "nbformat": 4,
 "nbformat_minor": 2
}
