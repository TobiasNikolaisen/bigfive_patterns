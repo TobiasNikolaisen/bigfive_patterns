{
 "cells": [
  {
   "cell_type": "code",
   "execution_count": 1,
   "id": "2389d322-235c-4074-9237-7d73d07e403f",
   "metadata": {},
   "outputs": [],
   "source": [
    "import pandas as pd\n",
    "import matplotlib.pyplot as plt"
   ]
  },
  {
   "cell_type": "code",
   "execution_count": 2,
   "id": "d139a245-70f3-44c8-8924-52b13a80dbe8",
   "metadata": {},
   "outputs": [
    {
     "name": "stdout",
     "output_type": "stream",
     "text": [
      "  EXT1\\tEXT2\\tEXT3\\tEXT4\\tEXT5\\tEXT6\\tEXT7\\tEXT8\\tEXT9\\tEXT10\\tEST1\\tEST2\\tEST3\\tEST4\\tEST5\\tEST6\\tEST7\\tEST8\\tEST9\\tEST10\\tAGR1\\tAGR2\\tAGR3\\tAGR4\\tAGR5\\tAGR6\\tAGR7\\tAGR8\\tAGR9\\tAGR10\\tCSN1\\tCSN2\\tCSN3\\tCSN4\\tCSN5\\tCSN6\\tCSN7\\tCSN8\\tCSN9\\tCSN10\\tOPN1\\tOPN2\\tOPN3\\tOPN4\\tOPN5\\tOPN6\\tOPN7\\tOPN8\\tOPN9\\tOPN10\\tEXT1_E\\tEXT2_E\\tEXT3_E\\tEXT4_E\\tEXT5_E\\tEXT6_E\\tEXT7_E\\tEXT8_E\\tEXT9_E\\tEXT10_E\\tEST1_E\\tEST2_E\\tEST3_E\\tEST4_E\\tEST5_E\\tEST6_E\\tEST7_E\\tEST8_E\\tEST9_E\\tEST10_E\\tAGR1_E\\tAGR2_E\\tAGR3_E\\tAGR4_E\\tAGR5_E\\tAGR6_E\\tAGR7_E\\tAGR8_E\\tAGR9_E\\tAGR10_E\\tCSN1_E\\tCSN2_E\\tCSN3_E\\tCSN4_E\\tCSN5_E\\tCSN6_E\\tCSN7_E\\tCSN8_E\\tCSN9_E\\tCSN10_E\\tOPN1_E\\tOPN2_E\\tOPN3_E\\tOPN4_E\\tOPN5_E\\tOPN6_E\\tOPN7_E\\tOPN8_E\\tOPN9_E\\tOPN10_E\\tdateload\\tscreenw\\tscreenh\\tintroelapse\\ttestelapse\\tendelapse\\tIPC\\tcountry\\tlat_appx_lots_of_err\\tlong_appx_lots_of_err\n",
      "0  4\\t1\\t5\\t2\\t5\\t1\\t5\\t2\\t4\\t1\\t1\\t4\\t4\\t2\\t2\\t2...                                                                                                                                                                                                                                                                                                                                                                                                                                                                                                                                                                                                                                                                                                                                                                                                             \n",
      "1  3\\t5\\t3\\t4\\t3\\t3\\t2\\t5\\t1\\t5\\t2\\t3\\t4\\t1\\t3\\t1...                                                                                                                                                                                                                                                                                                                                                                                                                                                                                                                                                                                                                                                                                                                                                                                                             \n",
      "2  2\\t3\\t4\\t4\\t3\\t2\\t1\\t3\\t2\\t5\\t4\\t4\\t4\\t2\\t2\\t2...                                                                                                                                                                                                                                                                                                                                                                                                                                                                                                                                                                                                                                                                                                                                                                                                             \n",
      "3  2\\t2\\t2\\t3\\t4\\t2\\t2\\t4\\t1\\t4\\t3\\t3\\t3\\t2\\t3\\t2...                                                                                                                                                                                                                                                                                                                                                                                                                                                                                                                                                                                                                                                                                                                                                                                                             \n",
      "4  3\\t3\\t3\\t3\\t5\\t3\\t3\\t5\\t3\\t4\\t1\\t5\\t5\\t3\\t1\\t1...                                                                                                                                                                                                                                                                                                                                                                                                                                                                                                                                                                                                                                                                                                                                                                                                             \n"
     ]
    }
   ],
   "source": [
    "csv_path = \"/Users/tobiasnikolaisen/Documents/Github/HEL8048/bigfive_patterns/data/IPIP-FFM-data-8Nov2018/data-final.csv\"\n",
    "\n",
    "df = pd.read_csv(csv_path)\n",
    "\n",
    "# Preview the first few rows\n",
    "print(df.head())"
   ]
  },
  {
   "cell_type": "code",
   "execution_count": 3,
   "id": "da796a60-07da-4c7a-94d6-8ab05d97ffff",
   "metadata": {},
   "outputs": [
    {
     "name": "stdout",
     "output_type": "stream",
     "text": [
      "Index(['EXT1\\tEXT2\\tEXT3\\tEXT4\\tEXT5\\tEXT6\\tEXT7\\tEXT8\\tEXT9\\tEXT10\\tEST1\\tEST2\\tEST3\\tEST4\\tEST5\\tEST6\\tEST7\\tEST8\\tEST9\\tEST10\\tAGR1\\tAGR2\\tAGR3\\tAGR4\\tAGR5\\tAGR6\\tAGR7\\tAGR8\\tAGR9\\tAGR10\\tCSN1\\tCSN2\\tCSN3\\tCSN4\\tCSN5\\tCSN6\\tCSN7\\tCSN8\\tCSN9\\tCSN10\\tOPN1\\tOPN2\\tOPN3\\tOPN4\\tOPN5\\tOPN6\\tOPN7\\tOPN8\\tOPN9\\tOPN10\\tEXT1_E\\tEXT2_E\\tEXT3_E\\tEXT4_E\\tEXT5_E\\tEXT6_E\\tEXT7_E\\tEXT8_E\\tEXT9_E\\tEXT10_E\\tEST1_E\\tEST2_E\\tEST3_E\\tEST4_E\\tEST5_E\\tEST6_E\\tEST7_E\\tEST8_E\\tEST9_E\\tEST10_E\\tAGR1_E\\tAGR2_E\\tAGR3_E\\tAGR4_E\\tAGR5_E\\tAGR6_E\\tAGR7_E\\tAGR8_E\\tAGR9_E\\tAGR10_E\\tCSN1_E\\tCSN2_E\\tCSN3_E\\tCSN4_E\\tCSN5_E\\tCSN6_E\\tCSN7_E\\tCSN8_E\\tCSN9_E\\tCSN10_E\\tOPN1_E\\tOPN2_E\\tOPN3_E\\tOPN4_E\\tOPN5_E\\tOPN6_E\\tOPN7_E\\tOPN8_E\\tOPN9_E\\tOPN10_E\\tdateload\\tscreenw\\tscreenh\\tintroelapse\\ttestelapse\\tendelapse\\tIPC\\tcountry\\tlat_appx_lots_of_err\\tlong_appx_lots_of_err'], dtype='object')\n"
     ]
    }
   ],
   "source": [
    "print(df.columns)"
   ]
  },
  {
   "cell_type": "code",
   "execution_count": 4,
   "id": "11597f1f-53b6-4c83-9a07-af78bba620a3",
   "metadata": {},
   "outputs": [
    {
     "name": "stdout",
     "output_type": "stream",
     "text": [
      "(1015341, 1)\n"
     ]
    }
   ],
   "source": [
    "print(df.shape)"
   ]
  },
  {
   "cell_type": "code",
   "execution_count": 5,
   "id": "4e505ae6-ed1d-4f4b-ab1d-771bc6efc032",
   "metadata": {},
   "outputs": [
    {
     "name": "stdout",
     "output_type": "stream",
     "text": [
      "<class 'pandas.core.frame.DataFrame'>\n",
      "RangeIndex: 1015341 entries, 0 to 1015340\n",
      "Data columns (total 1 columns):\n",
      " #   Column                                                                                                                                                                                                                                                                                                                                                                                                                                                                                                                                                                                                                                                                                                                                              Non-Null Count    Dtype \n",
      "---  ------                                                                                                                                                                                                                                                                                                                                                                                                                                                                                                                                                                                                                                                                                                                                              --------------    ----- \n",
      " 0   EXT1\tEXT2\tEXT3\tEXT4\tEXT5\tEXT6\tEXT7\tEXT8\tEXT9\tEXT10\tEST1\tEST2\tEST3\tEST4\tEST5\tEST6\tEST7\tEST8\tEST9\tEST10\tAGR1\tAGR2\tAGR3\tAGR4\tAGR5\tAGR6\tAGR7\tAGR8\tAGR9\tAGR10\tCSN1\tCSN2\tCSN3\tCSN4\tCSN5\tCSN6\tCSN7\tCSN8\tCSN9\tCSN10\tOPN1\tOPN2\tOPN3\tOPN4\tOPN5\tOPN6\tOPN7\tOPN8\tOPN9\tOPN10\tEXT1_E\tEXT2_E\tEXT3_E\tEXT4_E\tEXT5_E\tEXT6_E\tEXT7_E\tEXT8_E\tEXT9_E\tEXT10_E\tEST1_E\tEST2_E\tEST3_E\tEST4_E\tEST5_E\tEST6_E\tEST7_E\tEST8_E\tEST9_E\tEST10_E\tAGR1_E\tAGR2_E\tAGR3_E\tAGR4_E\tAGR5_E\tAGR6_E\tAGR7_E\tAGR8_E\tAGR9_E\tAGR10_E\tCSN1_E\tCSN2_E\tCSN3_E\tCSN4_E\tCSN5_E\tCSN6_E\tCSN7_E\tCSN8_E\tCSN9_E\tCSN10_E\tOPN1_E\tOPN2_E\tOPN3_E\tOPN4_E\tOPN5_E\tOPN6_E\tOPN7_E\tOPN8_E\tOPN9_E\tOPN10_E\tdateload\tscreenw\tscreenh\tintroelapse\ttestelapse\tendelapse\tIPC\tcountry\tlat_appx_lots_of_err\tlong_appx_lots_of_err  1015341 non-null  object\n",
      "dtypes: object(1)\n",
      "memory usage: 7.7+ MB\n",
      "None\n"
     ]
    }
   ],
   "source": [
    "print(df.info())"
   ]
  },
  {
   "cell_type": "code",
   "execution_count": 6,
   "id": "c8ac5159-dd41-4078-bb86-095aac608673",
   "metadata": {},
   "outputs": [
    {
     "name": "stdout",
     "output_type": "stream",
     "text": [
      "       EXT1\\tEXT2\\tEXT3\\tEXT4\\tEXT5\\tEXT6\\tEXT7\\tEXT8\\tEXT9\\tEXT10\\tEST1\\tEST2\\tEST3\\tEST4\\tEST5\\tEST6\\tEST7\\tEST8\\tEST9\\tEST10\\tAGR1\\tAGR2\\tAGR3\\tAGR4\\tAGR5\\tAGR6\\tAGR7\\tAGR8\\tAGR9\\tAGR10\\tCSN1\\tCSN2\\tCSN3\\tCSN4\\tCSN5\\tCSN6\\tCSN7\\tCSN8\\tCSN9\\tCSN10\\tOPN1\\tOPN2\\tOPN3\\tOPN4\\tOPN5\\tOPN6\\tOPN7\\tOPN8\\tOPN9\\tOPN10\\tEXT1_E\\tEXT2_E\\tEXT3_E\\tEXT4_E\\tEXT5_E\\tEXT6_E\\tEXT7_E\\tEXT8_E\\tEXT9_E\\tEXT10_E\\tEST1_E\\tEST2_E\\tEST3_E\\tEST4_E\\tEST5_E\\tEST6_E\\tEST7_E\\tEST8_E\\tEST9_E\\tEST10_E\\tAGR1_E\\tAGR2_E\\tAGR3_E\\tAGR4_E\\tAGR5_E\\tAGR6_E\\tAGR7_E\\tAGR8_E\\tAGR9_E\\tAGR10_E\\tCSN1_E\\tCSN2_E\\tCSN3_E\\tCSN4_E\\tCSN5_E\\tCSN6_E\\tCSN7_E\\tCSN8_E\\tCSN9_E\\tCSN10_E\\tOPN1_E\\tOPN2_E\\tOPN3_E\\tOPN4_E\\tOPN5_E\\tOPN6_E\\tOPN7_E\\tOPN8_E\\tOPN9_E\\tOPN10_E\\tdateload\\tscreenw\\tscreenh\\tintroelapse\\ttestelapse\\tendelapse\\tIPC\\tcountry\\tlat_appx_lots_of_err\\tlong_appx_lots_of_err\n",
      "count                                             1015341                                                                                                                                                                                                                                                                                                                                                                                                                                                                                                                                                                                                                                                                                                                                                                                                             \n",
      "unique                                            1015341                                                                                                                                                                                                                                                                                                                                                                                                                                                                                                                                                                                                                                                                                                                                                                                                             \n",
      "top     4\\t1\\t5\\t2\\t5\\t1\\t5\\t2\\t4\\t1\\t1\\t4\\t4\\t2\\t2\\t2...                                                                                                                                                                                                                                                                                                                                                                                                                                                                                                                                                                                                                                                                                                                                                                                                             \n",
      "freq                                                    1                                                                                                                                                                                                                                                                                                                                                                                                                                                                                                                                                                                                                                                                                                                                                                                                             \n"
     ]
    }
   ],
   "source": [
    "print(df.describe())"
   ]
  },
  {
   "cell_type": "code",
   "execution_count": 9,
   "id": "bdc423b5-bea9-4078-a29b-e0458ad6e82b",
   "metadata": {},
   "outputs": [
    {
     "ename": "KeyError",
     "evalue": "'/EXT1'",
     "output_type": "error",
     "traceback": [
      "\u001b[0;31m---------------------------------------------------------------------------\u001b[0m",
      "\u001b[0;31mKeyError\u001b[0m                                  Traceback (most recent call last)",
      "File \u001b[0;32m/opt/anaconda3/lib/python3.11/site-packages/pandas/core/indexes/base.py:3791\u001b[0m, in \u001b[0;36mIndex.get_loc\u001b[0;34m(self, key)\u001b[0m\n\u001b[1;32m   3790\u001b[0m \u001b[38;5;28;01mtry\u001b[39;00m:\n\u001b[0;32m-> 3791\u001b[0m     \u001b[38;5;28;01mreturn\u001b[39;00m \u001b[38;5;28mself\u001b[39m\u001b[38;5;241m.\u001b[39m_engine\u001b[38;5;241m.\u001b[39mget_loc(casted_key)\n\u001b[1;32m   3792\u001b[0m \u001b[38;5;28;01mexcept\u001b[39;00m \u001b[38;5;167;01mKeyError\u001b[39;00m \u001b[38;5;28;01mas\u001b[39;00m err:\n",
      "File \u001b[0;32mindex.pyx:152\u001b[0m, in \u001b[0;36mpandas._libs.index.IndexEngine.get_loc\u001b[0;34m()\u001b[0m\n",
      "File \u001b[0;32mindex.pyx:181\u001b[0m, in \u001b[0;36mpandas._libs.index.IndexEngine.get_loc\u001b[0;34m()\u001b[0m\n",
      "File \u001b[0;32mpandas/_libs/hashtable_class_helper.pxi:7080\u001b[0m, in \u001b[0;36mpandas._libs.hashtable.PyObjectHashTable.get_item\u001b[0;34m()\u001b[0m\n",
      "File \u001b[0;32mpandas/_libs/hashtable_class_helper.pxi:7088\u001b[0m, in \u001b[0;36mpandas._libs.hashtable.PyObjectHashTable.get_item\u001b[0;34m()\u001b[0m\n",
      "\u001b[0;31mKeyError\u001b[0m: '/EXT1'",
      "\nThe above exception was the direct cause of the following exception:\n",
      "\u001b[0;31mKeyError\u001b[0m                                  Traceback (most recent call last)",
      "Cell \u001b[0;32mIn[9], line 1\u001b[0m\n\u001b[0;32m----> 1\u001b[0m plt\u001b[38;5;241m.\u001b[39mhist(df[\u001b[38;5;124m\"\u001b[39m\u001b[38;5;124m/EXT1\u001b[39m\u001b[38;5;124m\"\u001b[39m], bins\u001b[38;5;241m=\u001b[39m\u001b[38;5;241m20\u001b[39m)\n\u001b[1;32m      2\u001b[0m plt\u001b[38;5;241m.\u001b[39mtitle(\u001b[38;5;124m\"\u001b[39m\u001b[38;5;124mDistribution of /EXT1\u001b[39m\u001b[38;5;124m\"\u001b[39m)\n\u001b[1;32m      3\u001b[0m plt\u001b[38;5;241m.\u001b[39mxlabel(\u001b[38;5;124m\"\u001b[39m\u001b[38;5;124m/EXT1 Score\u001b[39m\u001b[38;5;124m\"\u001b[39m)\n",
      "File \u001b[0;32m/opt/anaconda3/lib/python3.11/site-packages/pandas/core/frame.py:3893\u001b[0m, in \u001b[0;36mDataFrame.__getitem__\u001b[0;34m(self, key)\u001b[0m\n\u001b[1;32m   3891\u001b[0m \u001b[38;5;28;01mif\u001b[39;00m \u001b[38;5;28mself\u001b[39m\u001b[38;5;241m.\u001b[39mcolumns\u001b[38;5;241m.\u001b[39mnlevels \u001b[38;5;241m>\u001b[39m \u001b[38;5;241m1\u001b[39m:\n\u001b[1;32m   3892\u001b[0m     \u001b[38;5;28;01mreturn\u001b[39;00m \u001b[38;5;28mself\u001b[39m\u001b[38;5;241m.\u001b[39m_getitem_multilevel(key)\n\u001b[0;32m-> 3893\u001b[0m indexer \u001b[38;5;241m=\u001b[39m \u001b[38;5;28mself\u001b[39m\u001b[38;5;241m.\u001b[39mcolumns\u001b[38;5;241m.\u001b[39mget_loc(key)\n\u001b[1;32m   3894\u001b[0m \u001b[38;5;28;01mif\u001b[39;00m is_integer(indexer):\n\u001b[1;32m   3895\u001b[0m     indexer \u001b[38;5;241m=\u001b[39m [indexer]\n",
      "File \u001b[0;32m/opt/anaconda3/lib/python3.11/site-packages/pandas/core/indexes/base.py:3798\u001b[0m, in \u001b[0;36mIndex.get_loc\u001b[0;34m(self, key)\u001b[0m\n\u001b[1;32m   3793\u001b[0m     \u001b[38;5;28;01mif\u001b[39;00m \u001b[38;5;28misinstance\u001b[39m(casted_key, \u001b[38;5;28mslice\u001b[39m) \u001b[38;5;129;01mor\u001b[39;00m (\n\u001b[1;32m   3794\u001b[0m         \u001b[38;5;28misinstance\u001b[39m(casted_key, abc\u001b[38;5;241m.\u001b[39mIterable)\n\u001b[1;32m   3795\u001b[0m         \u001b[38;5;129;01mand\u001b[39;00m \u001b[38;5;28many\u001b[39m(\u001b[38;5;28misinstance\u001b[39m(x, \u001b[38;5;28mslice\u001b[39m) \u001b[38;5;28;01mfor\u001b[39;00m x \u001b[38;5;129;01min\u001b[39;00m casted_key)\n\u001b[1;32m   3796\u001b[0m     ):\n\u001b[1;32m   3797\u001b[0m         \u001b[38;5;28;01mraise\u001b[39;00m InvalidIndexError(key)\n\u001b[0;32m-> 3798\u001b[0m     \u001b[38;5;28;01mraise\u001b[39;00m \u001b[38;5;167;01mKeyError\u001b[39;00m(key) \u001b[38;5;28;01mfrom\u001b[39;00m \u001b[38;5;21;01merr\u001b[39;00m\n\u001b[1;32m   3799\u001b[0m \u001b[38;5;28;01mexcept\u001b[39;00m \u001b[38;5;167;01mTypeError\u001b[39;00m:\n\u001b[1;32m   3800\u001b[0m     \u001b[38;5;66;03m# If we have a listlike key, _check_indexing_error will raise\u001b[39;00m\n\u001b[1;32m   3801\u001b[0m     \u001b[38;5;66;03m#  InvalidIndexError. Otherwise we fall through and re-raise\u001b[39;00m\n\u001b[1;32m   3802\u001b[0m     \u001b[38;5;66;03m#  the TypeError.\u001b[39;00m\n\u001b[1;32m   3803\u001b[0m     \u001b[38;5;28mself\u001b[39m\u001b[38;5;241m.\u001b[39m_check_indexing_error(key)\n",
      "\u001b[0;31mKeyError\u001b[0m: '/EXT1'"
     ]
    }
   ],
   "source": [
    "plt.hist(df[\"/EXT1\"], bins=20)\n",
    "plt.title(\"Distribution of /EXT1\")\n",
    "plt.xlabel(\"/EXT1 Score\")\n",
    "plt.ylabel(\"Count\")\n",
    "plt.show()"
   ]
  },
  {
   "cell_type": "code",
   "execution_count": null,
   "id": "4704e771-e78e-4ed7-af55-2420e2c131db",
   "metadata": {},
   "outputs": [],
   "source": []
  }
 ],
 "metadata": {
  "kernelspec": {
   "display_name": "Python 3 (ipykernel)",
   "language": "python",
   "name": "python3"
  },
  "language_info": {
   "codemirror_mode": {
    "name": "ipython",
    "version": 3
   },
   "file_extension": ".py",
   "mimetype": "text/x-python",
   "name": "python",
   "nbconvert_exporter": "python",
   "pygments_lexer": "ipython3",
   "version": "3.11.7"
  }
 },
 "nbformat": 4,
 "nbformat_minor": 5
}
