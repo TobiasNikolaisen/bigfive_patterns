{
 "cells": [
  {
   "cell_type": "code",
   "execution_count": 2,
   "id": "662f1f13-78f9-40ca-9a29-7e1146ab970b",
   "metadata": {},
   "outputs": [
    {
     "name": "stdout",
     "output_type": "stream",
     "text": [
      "❌ API Error 403: No permission to submit data for personality analysis. Please double check your account permission and your authentication.\n"
     ]
    }
   ],
   "source": [
    "import requests\n",
    "\n",
    "# Manually set your API key (replace with your actual key)\n",
    "API_KEY = \"c4efad42b3a441b1b6d1fc08c0b4d09b\"  # Replace this with your real API key\n",
    "ENDPOINT = \"https://juji.ai/api/analyze\"\n",
    "\n",
    "# Define a minimal test payload (modify as needed based on Juji API documentation)\n",
    "payload = {\n",
    "    \"text\": \"Hello, Juji! Can you analyze this message?\",\n",
    "    \"lang\": \"en\"  # Specify language if required\n",
    "}\n",
    "\n",
    "# Set up headers\n",
    "headers = {\n",
    "    \"Authorization\": f\"Bearer {API_KEY}\",\n",
    "    \"Content-Type\": \"application/json\"\n",
    "}\n",
    "\n",
    "# Make a POST request\n",
    "response = requests.post(ENDPOINT, json=payload, headers=headers)\n",
    "\n",
    "# Print the response\n",
    "if response.status_code == 200:\n",
    "    print(\"✅ API is working! Response:\")\n",
    "    print(response.json())\n",
    "else:\n",
    "    print(f\"❌ API Error {response.status_code}: {response.text}\")"
   ]
  },
  {
   "cell_type": "code",
   "execution_count": null,
   "id": "869ce73d",
   "metadata": {},
   "outputs": [],
   "source": []
  }
 ],
 "metadata": {
  "kernelspec": {
   "display_name": "Python 3 (ipykernel)",
   "language": "python",
   "name": "python3"
  },
  "language_info": {
   "codemirror_mode": {
    "name": "ipython",
    "version": 3
   },
   "file_extension": ".py",
   "mimetype": "text/x-python",
   "name": "python",
   "nbconvert_exporter": "python",
   "pygments_lexer": "ipython3",
   "version": "3.11.7"
  }
 },
 "nbformat": 4,
 "nbformat_minor": 5
}
