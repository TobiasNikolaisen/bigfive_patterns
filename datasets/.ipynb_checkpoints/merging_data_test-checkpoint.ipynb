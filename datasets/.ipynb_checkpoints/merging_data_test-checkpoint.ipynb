{
 "cells": [
  {
   "cell_type": "code",
   "execution_count": null,
   "metadata": {},
   "outputs": [],
   "source": [
    "import pandas as pd\n",
    "\n",
    "# Load CSV file\n",
    "csv_file_path = '/Users/tobiasnikolaisen/Documents/Github/HEL8048/bigfive_patterns/data/raw_data.csv'  # Replace with your actual CSV file path\n",
    "df_csv = pd.read_csv(csv_file_path)\n",
    "\n",
    "# Load JSON file\n",
    "json_file_path = '/Users/tobiasnikolaisen/Documents/Github/HEL8048/bigfive_patterns/data/symanto_output_1.json'\n",
    "df_json = pd.read_json(json_file_path)\n",
    "\n",
    "# Merge DataFrames on 'id'\n",
    "df_merged = df_csv.merge(df_json, on='id', how='left')\n",
    "\n",
    "# Display merged DataFrame\n",
    "import ace_tools as tools\n",
    "tools.display_dataframe_to_user(name=\"Merged Data\", dataframe=df_merged)\n",
    "\n",
    "# Save if needed\n",
    "df_merged.to_csv(\"merged_output.csv\", index=False)\n"
   ]
  }
 ],
 "metadata": {
  "kernelspec": {
   "display_name": "base",
   "language": "python",
   "name": "python3"
  },
  "language_info": {
   "name": "python",
   "version": "3.11.7"
  }
 },
 "nbformat": 4,
 "nbformat_minor": 2
}
